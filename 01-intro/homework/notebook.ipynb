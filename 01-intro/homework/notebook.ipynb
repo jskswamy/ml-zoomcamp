{
 "cells": [
  {
   "metadata": {},
   "cell_type": "markdown",
   "source": "# 01 - Introduction",
   "id": "933713fe16f5a7d4"
  },
  {
   "metadata": {},
   "cell_type": "markdown",
   "source": [
    "## Q1. Pandas version\n",
    "\n",
    "What version of Pandas did you install?\n",
    "\n",
    "You can get the version information using the __version__ field:"
   ],
   "id": "88423c8c559ae719"
  },
  {
   "metadata": {
    "ExecuteTime": {
     "end_time": "2025-10-02T02:38:01.486536Z",
     "start_time": "2025-10-02T02:38:01.484709Z"
    }
   },
   "cell_type": "code",
   "source": [
    "import pandas as pd\n",
    "import numpy as np"
   ],
   "id": "59567bbc1cd5e2f1",
   "outputs": [],
   "execution_count": 12
  },
  {
   "metadata": {
    "ExecuteTime": {
     "end_time": "2025-10-02T02:38:01.511382Z",
     "start_time": "2025-10-02T02:38:01.508902Z"
    }
   },
   "cell_type": "code",
   "source": "pd.__version__",
   "id": "8e9c78771adb7f1",
   "outputs": [
    {
     "data": {
      "text/plain": [
       "'2.3.3'"
      ]
     },
     "execution_count": 13,
     "metadata": {},
     "output_type": "execute_result"
    }
   ],
   "execution_count": 13
  },
  {
   "metadata": {},
   "cell_type": "markdown",
   "source": "## Getting the data",
   "id": "1192f2d73bbb5d1a"
  },
  {
   "metadata": {},
   "cell_type": "markdown",
   "source": [
    "\n",
    "```sh\n",
    "wget https://raw.githubusercontent.com/alexeygrigorev/datasets/master/car_fuel_efficiency.csv\n",
    "```"
   ],
   "id": "f0b724ec6c2af7e0"
  },
  {
   "metadata": {
    "ExecuteTime": {
     "end_time": "2025-10-02T02:38:01.535251Z",
     "start_time": "2025-10-02T02:38:01.525412Z"
    }
   },
   "cell_type": "code",
   "source": "data = pd.read_csv(\"car_fuel_efficiency.csv\")",
   "id": "1791eb2ab4654907",
   "outputs": [],
   "execution_count": 14
  },
  {
   "metadata": {
    "ExecuteTime": {
     "end_time": "2025-10-02T02:38:01.545773Z",
     "start_time": "2025-10-02T02:38:01.541470Z"
    }
   },
   "cell_type": "code",
   "source": "data.info()",
   "id": "518e10b422043db7",
   "outputs": [
    {
     "name": "stdout",
     "output_type": "stream",
     "text": [
      "<class 'pandas.core.frame.DataFrame'>\n",
      "RangeIndex: 9704 entries, 0 to 9703\n",
      "Data columns (total 11 columns):\n",
      " #   Column               Non-Null Count  Dtype  \n",
      "---  ------               --------------  -----  \n",
      " 0   engine_displacement  9704 non-null   int64  \n",
      " 1   num_cylinders        9222 non-null   float64\n",
      " 2   horsepower           8996 non-null   float64\n",
      " 3   vehicle_weight       9704 non-null   float64\n",
      " 4   acceleration         8774 non-null   float64\n",
      " 5   model_year           9704 non-null   int64  \n",
      " 6   origin               9704 non-null   object \n",
      " 7   fuel_type            9704 non-null   object \n",
      " 8   drivetrain           9704 non-null   object \n",
      " 9   num_doors            9202 non-null   float64\n",
      " 10  fuel_efficiency_mpg  9704 non-null   float64\n",
      "dtypes: float64(6), int64(2), object(3)\n",
      "memory usage: 834.1+ KB\n"
     ]
    }
   ],
   "execution_count": 15
  },
  {
   "metadata": {},
   "cell_type": "markdown",
   "source": [
    "## Q2. Records Count\n",
    "\n",
    "How many records are in the dataset?"
   ],
   "id": "60694a28a9e72"
  },
  {
   "metadata": {
    "ExecuteTime": {
     "end_time": "2025-10-02T02:38:01.553935Z",
     "start_time": "2025-10-02T02:38:01.551635Z"
    }
   },
   "cell_type": "code",
   "source": "len(data)",
   "id": "3a485dc66ecb4a7a",
   "outputs": [
    {
     "data": {
      "text/plain": [
       "9704"
      ]
     },
     "execution_count": 16,
     "metadata": {},
     "output_type": "execute_result"
    }
   ],
   "execution_count": 16
  },
  {
   "metadata": {},
   "cell_type": "markdown",
   "source": [
    "## Q3. Fuel Types\n",
    "\n",
    "How many fuel types are presented in the dataset?"
   ],
   "id": "506a2d3c78641757"
  },
  {
   "metadata": {
    "ExecuteTime": {
     "end_time": "2025-10-02T02:38:01.575066Z",
     "start_time": "2025-10-02T02:38:01.572034Z"
    }
   },
   "cell_type": "code",
   "source": "data[\"fuel_type\"].unique().size",
   "id": "66fa6f27a5e6ab9",
   "outputs": [
    {
     "data": {
      "text/plain": [
       "2"
      ]
     },
     "execution_count": 17,
     "metadata": {},
     "output_type": "execute_result"
    }
   ],
   "execution_count": 17
  },
  {
   "metadata": {},
   "cell_type": "markdown",
   "source": [
    "## Q4. Missing Values\n",
    "\n",
    "How many columns in the dataset have missing values?"
   ],
   "id": "f2a78efbc3228112"
  },
  {
   "metadata": {
    "ExecuteTime": {
     "end_time": "2025-10-02T02:38:01.596289Z",
     "start_time": "2025-10-02T02:38:01.590901Z"
    }
   },
   "cell_type": "code",
   "source": [
    "data.isnull().sum()\n",
    "\n",
    "# Filter the columns with missing values\n",
    "missing_values = data.isnull().sum()\n",
    "missing_values = missing_values[missing_values > 0]\n",
    "missing_values.size"
   ],
   "id": "54a0d49ab5ae81b0",
   "outputs": [
    {
     "data": {
      "text/plain": [
       "4"
      ]
     },
     "execution_count": 18,
     "metadata": {},
     "output_type": "execute_result"
    }
   ],
   "execution_count": 18
  },
  {
   "metadata": {},
   "cell_type": "markdown",
   "source": [
    "## Q5. Max Fuel Efficiency\n",
    "\n",
    "What's the maximum fuel efficiency of cars from Asia?"
   ],
   "id": "24b78ad988928045"
  },
  {
   "metadata": {
    "ExecuteTime": {
     "end_time": "2025-10-02T02:38:01.612026Z",
     "start_time": "2025-10-02T02:38:01.602818Z"
    }
   },
   "cell_type": "code",
   "source": [
    "max_fuel_efficiency = data['fuel_efficiency_mpg'].max()\n",
    "print(f\"Exact max value: {max_fuel_efficiency}\")\n",
    "\n",
    "print(f\"Top 5 highest values:\")\n",
    "print(data['fuel_efficiency_mpg'].nlargest(5))\n",
    "\n",
    "options = [13.75, 23.75, 33.75, 43.75]\n",
    "print(f\"\\nClosest option to {max_fuel_efficiency}: {min(options, key=lambda x: abs(x - max_fuel_efficiency))}\")\n",
    "\n",
    "max_fuel_efficiency"
   ],
   "id": "a43d2bb126a208c1",
   "outputs": [
    {
     "name": "stdout",
     "output_type": "stream",
     "text": [
      "Exact max value: 25.96722204888372\n",
      "Top 5 highest values:\n",
      "5014    25.967222\n",
      "5815    24.971452\n",
      "9387    23.759123\n",
      "560     23.556075\n",
      "8300    23.369176\n",
      "Name: fuel_efficiency_mpg, dtype: float64\n",
      "\n",
      "Closest option to 25.96722204888372: 23.75\n"
     ]
    },
    {
     "data": {
      "text/plain": [
       "np.float64(25.96722204888372)"
      ]
     },
     "execution_count": 19,
     "metadata": {},
     "output_type": "execute_result"
    }
   ],
   "execution_count": 19
  },
  {
   "metadata": {},
   "cell_type": "markdown",
   "source": [
    "## Q6. Median value of horsepower\n",
    "\n",
    "1. Find the median value of the horsepower column in the dataset.\n",
    "2. Next, calculate the most frequent value of the same horsepower column.\n",
    "3. Use the fillna method to fill the missing values in the horsepower column with the most frequent value from the previous step.\n",
    "4. Now, calculate the median value of horsepower once again.\n",
    "\n",
    "Has it changed?"
   ],
   "id": "6f3f56f50cde1f05"
  },
  {
   "metadata": {
    "ExecuteTime": {
     "end_time": "2025-10-02T02:38:01.657760Z",
     "start_time": "2025-10-02T02:38:01.652662Z"
    }
   },
   "cell_type": "code",
   "source": "# Step 1: Find the median value of the horsepower column\nmedian_original = data['horsepower'].median()\nprint(f\"Original median horsepower: {median_original}\")\n\n# Step 2: Calculate the most frequent value (mode) of horsepower\nmode_horsepower = data['horsepower'].mode()[0]  # mode() returns a Series, take first value\nprint(f\"Most frequent horsepower value (mode): {mode_horsepower}\")\n\n# Step 3: Fill missing values with the most frequent value\ndata_filled = data.copy()\ndata_filled['horsepower'] = data_filled['horsepower'].fillna(mode_horsepower)\n\n# Step 4: Calculate the median again\nmedian_after_fill = data_filled['horsepower'].median()\nprint(f\"Median after filling with mode: {median_after_fill}\")\n\n# Step 5: Check if it changed\nprint(f\"\\nComparison:\")\nif median_after_fill > median_original:\n    print(\"Yes, it increased\")\nelif median_after_fill < median_original:\n    print(\"Yes, it decreased\")\nelse:\n    print(\"No\")\n\nmedian_original",
   "id": "bdfcac98002f0553",
   "outputs": [
    {
     "name": "stdout",
     "output_type": "stream",
     "text": [
      "Original median horsepower: 149.0\n",
      "Most frequent horsepower value (mode): 152.0\n",
      "Median after filling with mode: 152.0\n",
      "\n",
      "Comparison:\n",
      "Yes, it increased\n"
     ]
    },
    {
     "data": {
      "text/plain": [
       "np.float64(149.0)"
      ]
     },
     "execution_count": 20,
     "metadata": {},
     "output_type": "execute_result"
    }
   ],
   "execution_count": 20
  },
  {
   "metadata": {},
   "cell_type": "markdown",
   "source": [
    "## Q7. Sum of Weights\n",
    "\n",
    "1. Select all the cars from Asia\n",
    "2. Select only columns vehicle_weight and model_year\n",
    "3. Select the first 7 values\n",
    "4. Get the underlying NumPy array. Let's call it X.\n",
    "5. Compute matrix-matrix multiplication between the transpose of X and X. To get the transpose, use X.T. Let's call the result XTX.\n",
    "6. Invert XTX.\n",
    "7. Create an array y with values [1100, 1300, 800, 900, 1000, 1100, 1200].\n",
    "8. Multiply the inverse of XTX with the transpose of X, and then multiply the result by y. Call the result w.\n",
    "9. What's the sum of all the elements of the result?\n"
   ],
   "id": "133d714475a84cab"
  },
  {
   "metadata": {
    "ExecuteTime": {
     "end_time": "2025-10-02T02:38:01.668047Z",
     "start_time": "2025-10-02T02:38:01.664144Z"
    }
   },
   "cell_type": "code",
   "source": [
    "asia_cars = data[data['origin'] == 'Asia'][['vehicle_weight', 'model_year']].head(7)\n",
    "X = asia_cars.to_numpy()\n",
    "XTX = X.T @ X\n",
    "XTX_inv = np.linalg.inv(XTX)\n",
    "y = np.array([1100, 1300, 800, 900, 1000, 1100, 1200])\n",
    "w = XTX_inv @ X.T @ y\n",
    "print(f\"Sum of all elements in w: {w.sum()}\")"
   ],
   "id": "5bfc8500782aa2f7",
   "outputs": [
    {
     "name": "stdout",
     "output_type": "stream",
     "text": [
      "Sum of all elements in w: 0.5187709081074006\n"
     ]
    }
   ],
   "execution_count": 21
  }
 ],
 "metadata": {
  "kernelspec": {
   "name": "python3",
   "language": "python",
   "display_name": "Python 3 (ipykernel)"
  }
 },
 "nbformat": 4,
 "nbformat_minor": 5
}
